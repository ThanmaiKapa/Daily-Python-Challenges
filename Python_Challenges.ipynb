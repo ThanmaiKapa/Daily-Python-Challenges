{
  "nbformat": 4,
  "nbformat_minor": 0,
  "metadata": {
    "colab": {
      "provenance": [],
      "authorship_tag": "ABX9TyMCkkW97THfNx1X2/3VFYnJ",
      "include_colab_link": true
    },
    "kernelspec": {
      "name": "python3",
      "display_name": "Python 3"
    },
    "language_info": {
      "name": "python"
    }
  },
  "cells": [
    {
      "cell_type": "markdown",
      "metadata": {
        "id": "view-in-github",
        "colab_type": "text"
      },
      "source": [
        "<a href=\"https://colab.research.google.com/github/ThanmaiKapa/Daily-Python-Challenges/blob/main/Python_Challenges.ipynb\" target=\"_parent\"><img src=\"https://colab.research.google.com/assets/colab-badge.svg\" alt=\"Open In Colab\"/></a>"
      ]
    },
    {
      "cell_type": "markdown",
      "source": [
        "## Day 1 challenge\n",
        "### Longest Substring Without Repeating Characters"
      ],
      "metadata": {
        "id": "Ipr-zNLK-4xx"
      }
    },
    {
      "cell_type": "code",
      "source": [
        "# Day 1\n",
        "class Solution(object):\n",
        "    def lengthOfLongestSubstring(self, s):\n",
        "        s1 = list(s)\n",
        "        count_l = []\n",
        "        for i in range(len(s1)):\n",
        "            count = 1\n",
        "            s3=[s1[i]]\n",
        "            for j in range(i + 1, len(s1)):\n",
        "                if s1[j] not in s3:\n",
        "                    s3.append(s1[j])\n",
        "                    count += 1\n",
        "                else:\n",
        "                    break\n",
        "            count_l.append(count)\n",
        "        return max(count_l)\n",
        "\n",
        "s = input(\"Enter a string: \")\n",
        "solution = Solution()\n",
        "print(solution.lengthOfLongestSubstring(s))"
      ],
      "metadata": {
        "colab": {
          "base_uri": "https://localhost:8080/"
        },
        "id": "kQw3odRK7WXe",
        "outputId": "77e8a0f9-148c-4597-d82b-2bd41c19d5ff"
      },
      "execution_count": null,
      "outputs": [
        {
          "output_type": "stream",
          "name": "stdout",
          "text": [
            "Enter a string: abcdadea\n",
            "4\n"
          ]
        }
      ]
    },
    {
      "cell_type": "markdown",
      "source": [
        "## Day 2 Challenge\n",
        "### Count Equal and Divisible pairs in an array\n",
        "Given a 0-indexed integer array nums of length n and an integer k, return the number of pairs (i, j) where 0 <= i < j < n, such that nums[i]==nums[j] and (i*j) is divisible by k."
      ],
      "metadata": {
        "id": "09ZABxtYOeDn"
      }
    },
    {
      "cell_type": "code",
      "source": [
        "# Day 2\n",
        "class Solution(object):\n",
        "    def countPairs(self, nums, k):\n",
        "      count=0\n",
        "      for i in range(len(nums)):\n",
        "        for j in range(i+1,len(nums)):\n",
        "          if nums[i]==nums[j]:\n",
        "            if (i*j)%k==0:\n",
        "              count=count+1\n",
        "      return count\n",
        "n=list(map(int,input(\"Enter a list of numbers: \").split()))\n",
        "k=int(input(\"Enter a number: \"))\n",
        "solution=Solution()\n",
        "print(solution.countPairs(n,k))"
      ],
      "metadata": {
        "colab": {
          "base_uri": "https://localhost:8080/"
        },
        "id": "vfSJypJBOkA3",
        "outputId": "ebdfad13-f008-4a35-a0c7-9831db7dcb3c"
      },
      "execution_count": null,
      "outputs": [
        {
          "output_type": "stream",
          "name": "stdout",
          "text": [
            "Enter a list of numbers: 3 1 2 2 2 1 3\n",
            "Enter a number: 2\n",
            "4\n"
          ]
        }
      ]
    },
    {
      "cell_type": "markdown",
      "source": [
        "## Day 3\n",
        "### The count-and-say sequence is a sequence of digit strings defined by the recursive formula:\n",
        "\n",
        "countAndSay(1) = \"1\"\n",
        "countAndSay(n) is the run-length encoding of countAndSay(n - 1).\n",
        "Run-length encoding (RLE) is a string compression method that works by replacing consecutive identical characters (repeated 2 or more times) with the concatenation of the character and the number marking the count of the characters (length of the run). For example, to compress the string \"3322251\" we replace \"33\" with \"23\", replace \"222\" with \"32\", replace \"5\" with \"15\" and replace \"1\" with \"11\". Thus the compressed string becomes \"23321511\".\n",
        "\n",
        "Given a positive integer n, return the nth element of the count-and-say sequence."
      ],
      "metadata": {
        "id": "fCaL9nSFGLrT"
      }
    },
    {
      "cell_type": "code",
      "source": [
        "# Day 3\n",
        "class Solution(object):\n",
        "    def countAndSay(self, n):\n",
        "        if n == 1:\n",
        "            return \"1\"\n",
        "        prev = \"1\"\n",
        "        for i in range(2, n + 1):\n",
        "            result = \"\"\n",
        "            count = 1\n",
        "            for j in range(1, len(prev)):\n",
        "                if prev[j] == prev[j - 1]:\n",
        "                    count += 1\n",
        "                else:\n",
        "                    result += str(count) + prev[j - 1]\n",
        "                    count = 1\n",
        "            result += str(count) + prev[-1]\n",
        "            prev = result\n",
        "        return prev\n",
        "n=int(input(\"Enter a number: \"))\n",
        "solution=Solution()\n",
        "print(solution.countAndSay(n))"
      ],
      "metadata": {
        "colab": {
          "base_uri": "https://localhost:8080/"
        },
        "id": "m9grEvA77dMQ",
        "outputId": "5439507b-180a-480e-b6d8-5818e980a561"
      },
      "execution_count": 1,
      "outputs": [
        {
          "output_type": "stream",
          "name": "stdout",
          "text": [
            "Enter a number: 5\n",
            "111221\n"
          ]
        }
      ]
    },
    {
      "cell_type": "markdown",
      "source": [
        "## Day 4\n",
        "### Count Subarrays with Fixed Bounds\n",
        "You are given an integer array nums and two integers minK and maxK.\n",
        "\n",
        "A fixed-bound subarray of nums is a subarray that satisfies the following conditions:\n",
        "\n",
        "The minimum value in the subarray is equal to minK.\n",
        "The maximum value in the subarray is equal to maxK.\n",
        "Return the number of fixed-bound subarrays.\n",
        "\n",
        "A subarray is a contiguous part of an array."
      ],
      "metadata": {
        "id": "WN-wjLbL4d7D"
      }
    },
    {
      "cell_type": "code",
      "source": [
        "# Day 4\n",
        "class Solution(object):\n",
        "  def countSubarrays(self, nums, minK, maxK):\n",
        "    count=0\n",
        "    for i in range(len(nums)):\n",
        "      for j in range(i,len(nums)):\n",
        "        l=nums[i:j+1]\n",
        "        if min(l)==minK and max(l)==maxK:\n",
        "          count=count+1\n",
        "    return count\n",
        "nums=list(map(int,input(\"Enter a number: \").split()))\n",
        "minK=int(input(\"enter any value from list:\"))\n",
        "maxK=int(input(\"enter any value from list:\"))\n",
        "solution=Solution()\n",
        "print(solution.countSubarrays(nums,minK,maxK))"
      ],
      "metadata": {
        "colab": {
          "base_uri": "https://localhost:8080/"
        },
        "id": "7oHFosBmtITw",
        "outputId": "ef2127a4-0f81-4418-a961-13cff4b5aa4e"
      },
      "execution_count": 20,
      "outputs": [
        {
          "output_type": "stream",
          "name": "stdout",
          "text": [
            "Enter a number: 1 3 5 2 7 5\n",
            "enter any value from list:1\n",
            "enter any value from list:5\n",
            "2\n"
          ]
        }
      ]
    }
  ]
}