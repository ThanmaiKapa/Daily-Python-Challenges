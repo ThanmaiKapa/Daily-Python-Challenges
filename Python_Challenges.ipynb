{
  "nbformat": 4,
  "nbformat_minor": 0,
  "metadata": {
    "colab": {
      "provenance": [],
      "authorship_tag": "ABX9TyNmLlmiuotf7GiOpTEgfkO1",
      "include_colab_link": true
    },
    "kernelspec": {
      "name": "python3",
      "display_name": "Python 3"
    },
    "language_info": {
      "name": "python"
    }
  },
  "cells": [
    {
      "cell_type": "markdown",
      "metadata": {
        "id": "view-in-github",
        "colab_type": "text"
      },
      "source": [
        "<a href=\"https://colab.research.google.com/github/ThanmaiKapa/Daily-Python-Challenges/blob/main/Python_Challenges.ipynb\" target=\"_parent\"><img src=\"https://colab.research.google.com/assets/colab-badge.svg\" alt=\"Open In Colab\"/></a>"
      ]
    },
    {
      "cell_type": "markdown",
      "source": [
        "## Day 1 challenge"
      ],
      "metadata": {
        "id": "Ipr-zNLK-4xx"
      }
    },
    {
      "cell_type": "code",
      "source": [
        "# Day 1\n",
        "# Longest Substring Without Repeating Characters\n",
        "class Solution(object):\n",
        "    def lengthOfLongestSubstring(self, s):\n",
        "        s1 = list(s)\n",
        "        count_l = []\n",
        "        for i in range(len(s1)):\n",
        "            count = 1\n",
        "            s3=[s1[i]]\n",
        "            for j in range(i + 1, len(s1)):\n",
        "                if s1[j] not in s3:\n",
        "                    s3.append(s1[j])\n",
        "                    count += 1\n",
        "                else:\n",
        "                    break\n",
        "            count_l.append(count)\n",
        "        return max(count_l) if count_l else 0\n",
        "\n",
        "s = input(\"Enter a string: \")\n",
        "solution = Solution()\n",
        "print(solution.lengthOfLongestSubstring(s))"
      ],
      "metadata": {
        "colab": {
          "base_uri": "https://localhost:8080/"
        },
        "id": "kQw3odRK7WXe",
        "outputId": "9c1ab881-0f2e-455d-92b8-b8fdfd63be66"
      },
      "execution_count": 15,
      "outputs": [
        {
          "output_type": "stream",
          "name": "stdout",
          "text": [
            "Enter a string: abvgfcgbc\n",
            "6\n"
          ]
        }
      ]
    }
  ]
}