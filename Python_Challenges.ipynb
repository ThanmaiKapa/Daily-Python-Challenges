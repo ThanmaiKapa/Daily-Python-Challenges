{
  "nbformat": 4,
  "nbformat_minor": 0,
  "metadata": {
    "colab": {
      "provenance": [],
      "authorship_tag": "ABX9TyOFw4IJX2APZ4vyZSxNkt9r",
      "include_colab_link": true
    },
    "kernelspec": {
      "name": "python3",
      "display_name": "Python 3"
    },
    "language_info": {
      "name": "python"
    }
  },
  "cells": [
    {
      "cell_type": "markdown",
      "metadata": {
        "id": "view-in-github",
        "colab_type": "text"
      },
      "source": [
        "<a href=\"https://colab.research.google.com/github/ThanmaiKapa/Daily-Python-Challenges/blob/main/Python_Challenges.ipynb\" target=\"_parent\"><img src=\"https://colab.research.google.com/assets/colab-badge.svg\" alt=\"Open In Colab\"/></a>"
      ]
    },
    {
      "cell_type": "markdown",
      "source": [
        "## Day 1 challenge\n",
        "### Longest Substring Without Repeating Characters"
      ],
      "metadata": {
        "id": "Ipr-zNLK-4xx"
      }
    },
    {
      "cell_type": "code",
      "source": [
        "# Day 1\n",
        "class Solution(object):\n",
        "    def lengthOfLongestSubstring(self, s):\n",
        "        s1 = list(s)\n",
        "        count_l = []\n",
        "        for i in range(len(s1)):\n",
        "            count = 1\n",
        "            s3=[s1[i]]\n",
        "            for j in range(i + 1, len(s1)):\n",
        "                if s1[j] not in s3:\n",
        "                    s3.append(s1[j])\n",
        "                    count += 1\n",
        "                else:\n",
        "                    break\n",
        "            count_l.append(count)\n",
        "        return max(count_l)\n",
        "\n",
        "s = input(\"Enter a string: \")\n",
        "solution = Solution()\n",
        "print(solution.lengthOfLongestSubstring(s))"
      ],
      "metadata": {
        "colab": {
          "base_uri": "https://localhost:8080/"
        },
        "id": "kQw3odRK7WXe",
        "outputId": "77e8a0f9-148c-4597-d82b-2bd41c19d5ff"
      },
      "execution_count": 15,
      "outputs": [
        {
          "output_type": "stream",
          "name": "stdout",
          "text": [
            "Enter a string: abcdadea\n",
            "4\n"
          ]
        }
      ]
    },
    {
      "cell_type": "markdown",
      "source": [
        "## Day 2 Challenge\n",
        "### Count Equal and Divisible pairs in an array\n",
        "Given a 0-indexed integer array nums of length n and an integer k, return the number of pairs (i, j) where 0 <= i < j < n, such that nums[i]==nums[j] and (i*j) is divisible by k."
      ],
      "metadata": {
        "id": "09ZABxtYOeDn"
      }
    },
    {
      "cell_type": "code",
      "source": [
        "# Day 2\n",
        "class Solution(object):\n",
        "    def countPairs(self, nums, k):\n",
        "      count=0\n",
        "      for i in range(len(nums)):\n",
        "        for j in range(i+1,len(nums)):\n",
        "          if nums[i]==nums[j]:\n",
        "            if (i*j)%k==0:\n",
        "              count=count+1\n",
        "      return count\n",
        "n=list(map(int,input(\"Enter a list of numbers: \").split()))\n",
        "k=int(input(\"Enter a number: \"))\n",
        "solution=Solution()\n",
        "print(solution.countPairs(n,k))"
      ],
      "metadata": {
        "colab": {
          "base_uri": "https://localhost:8080/"
        },
        "id": "vfSJypJBOkA3",
        "outputId": "ebdfad13-f008-4a35-a0c7-9831db7dcb3c"
      },
      "execution_count": 17,
      "outputs": [
        {
          "output_type": "stream",
          "name": "stdout",
          "text": [
            "Enter a list of numbers: 3 1 2 2 2 1 3\n",
            "Enter a number: 2\n",
            "4\n"
          ]
        }
      ]
    },
    {
      "cell_type": "code",
      "source": [],
      "metadata": {
        "id": "YBVrFQKXXAjI"
      },
      "execution_count": null,
      "outputs": []
    }
  ]
}